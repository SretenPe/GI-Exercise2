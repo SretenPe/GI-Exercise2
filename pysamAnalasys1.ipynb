{
 "cells": [
  {
   "cell_type": "code",
   "execution_count": 1,
   "metadata": {},
   "outputs": [
    {
     "name": "stdout",
     "output_type": "stream",
     "text": [
      "Collecting pysam\n",
      "  Downloading pysam-0.16.0.1-cp38-cp38-manylinux1_x86_64.whl (10.2 MB)\n",
      "\u001b[K     |████████████████████████████████| 10.2 MB 14.5 MB/s eta 0:00:01\n",
      "\u001b[?25hInstalling collected packages: pysam\n",
      "Successfully installed pysam-0.16.0.1\n",
      "Note: you may need to restart the kernel to use updated packages.\n"
     ]
    }
   ],
   "source": [
    "pip install pysam"
   ]
  },
  {
   "cell_type": "code",
   "execution_count": 9,
   "metadata": {},
   "outputs": [],
   "source": [
    "import pysam as ps\n",
    "alFile = ps.AlignmentFile(\"merged-tumor.bam\",\"rb\")"
   ]
  },
  {
   "cell_type": "code",
   "execution_count": 10,
   "metadata": {},
   "outputs": [],
   "source": [
    "firstRead = None\n",
    "for read in alFile:\n",
    "    firstRead = read\n",
    "    break"
   ]
  },
  {
   "cell_type": "code",
   "execution_count": 11,
   "metadata": {},
   "outputs": [
    {
     "name": "stdout",
     "output_type": "stream",
     "text": [
      "First read\n",
      "C0HVYACXX120402:7:1207:5722:57044\t1187\t20\t9483248\t27\t76M\t20\t9483381\t76\tTTTTCAAACAGTATCTATGCCTGCCAAATGTGAACATATAAAAAAAAACCAGAATGTGCCATTCTGATTTAAACTG\tarray('B', [28, 28, 27, 29, 31, 30, 31, 31, 29, 31, 35, 30, 29, 31, 34, 30, 29, 23, 41, 32, 20, 30, 29, 34, 34, 29, 30, 31, 30, 30, 30, 33, 33, 26, 39, 12, 25, 19, 32, 30, 35, 28, 35, 33, 23, 33, 35, 36, 30, 38, 33, 41, 34, 35, 31, 33, 23, 30, 30, 36, 27, 32, 29, 34, 35, 41, 33, 31, 33, 29, 32, 32, 31, 31, 31, 34])\t[('XA', 'GL000217.1,-110754,76M,1;'), ('BD', 'NNNNNNNNNNNNNNNNNNNNNNNNNNNNNNNNNNNNNNNNNNNNNNNNNNNNNNNNNNNNNNNNNNNNNNNNNNNN'), ('MD', '76'), ('RG', '1'), ('BI', 'NNNNNNNNNNNNNNNNNNNNNNNNNNNNNNNNNNNNNNNNNNNNNNNNNNNNNNNNNNNNNNNNNNNNNNNNNNNN'), ('NM', 0), ('MQ', 27), ('AS', 76), ('XS', 71)]\n",
      "Read fields\n",
      "['__class__', '__copy__', '__deepcopy__', '__delattr__', '__dir__', '__doc__', '__eq__', '__format__', '__ge__', '__getattribute__', '__gt__', '__hash__', '__init__', '__init_subclass__', '__le__', '__lt__', '__ne__', '__new__', '__pyx_vtable__', '__reduce__', '__reduce_ex__', '__repr__', '__setattr__', '__setstate__', '__sizeof__', '__str__', '__subclasshook__', 'aend', 'alen', 'aligned_pairs', 'bin', 'blocks', 'cigar', 'cigarstring', 'cigartuples', 'compare', 'flag', 'from_dict', 'fromstring', 'get_aligned_pairs', 'get_blocks', 'get_cigar_stats', 'get_forward_qualities', 'get_forward_sequence', 'get_overlap', 'get_reference_positions', 'get_reference_sequence', 'get_tag', 'get_tags', 'has_tag', 'header', 'infer_query_length', 'infer_read_length', 'inferred_length', 'is_duplicate', 'is_paired', 'is_proper_pair', 'is_qcfail', 'is_read1', 'is_read2', 'is_reverse', 'is_secondary', 'is_supplementary', 'is_unmapped', 'isize', 'mapping_quality', 'mapq', 'mate_is_reverse', 'mate_is_unmapped', 'mpos', 'mrnm', 'next_reference_id', 'next_reference_name', 'next_reference_start', 'opt', 'overlap', 'pnext', 'pos', 'positions', 'qend', 'qlen', 'qname', 'qqual', 'qstart', 'qual', 'query', 'query_alignment_end', 'query_alignment_length', 'query_alignment_qualities', 'query_alignment_sequence', 'query_alignment_start', 'query_length', 'query_name', 'query_qualities', 'query_sequence', 'reference_end', 'reference_id', 'reference_length', 'reference_name', 'reference_start', 'rlen', 'rname', 'rnext', 'seq', 'setTag', 'set_tag', 'set_tags', 'tags', 'template_length', 'tid', 'tlen', 'to_dict', 'to_string', 'tostring']\n",
      "Read flags\n",
      "1187\n"
     ]
    }
   ],
   "source": [
    "#Inspect first flag\n",
    "print(\"First read\")\n",
    "print(firstRead)\n",
    "print(\"Read fields\")\n",
    "print(dir(firstRead))\n",
    "print(\"Read flags\")\n",
    "print(firstRead.flag)"
   ]
  },
  {
   "cell_type": "code",
   "execution_count": 12,
   "metadata": {},
   "outputs": [
    {
     "name": "stdout",
     "output_type": "stream",
     "text": [
      "163\n",
      "99\n",
      "99\n",
      "99\n",
      "163\n"
     ]
    }
   ],
   "source": [
    "#Inspect flags of some reads\n",
    "cnt = 0\n",
    "for read in alFile:\n",
    "    print(read.flag)\n",
    "    cnt+=1\n",
    "    if(cnt == 5): break"
   ]
  },
  {
   "cell_type": "code",
   "execution_count": 14,
   "metadata": {},
   "outputs": [
    {
     "name": "stdout",
     "output_type": "stream",
     "text": [
      "Total number of reads\n",
      "2921629\n",
      "Number of unmapped reads\n",
      "17765\n",
      "Number of reads with mapping quality of 0\n",
      "108863\n",
      "Average mapping quality of reads\n",
      "55.91379158681681\n",
      "Average mapping quality of reads when reads with 0 mapping qualities are filtered out\n",
      "58.446975510921106\n"
     ]
    }
   ],
   "source": [
    "alFile = ps.AlignmentFile(\"merged-tumor.bam\",\"rb\")\n",
    "\n",
    "totalNumberOfReads = 0\n",
    "unmappedReads = 0\n",
    "readsWithMappintQualityZero = 0\n",
    "sumMappingQuality = 0\n",
    "\n",
    "for read in alFile:\n",
    "    totalNumberOfReads+=1\n",
    "    \n",
    "    if(read.is_unmapped):\n",
    "        unmappedReads+=1\n",
    "        continue\n",
    "    \n",
    "    sumMappingQuality+=read.mapping_quality\n",
    "    \n",
    "    if(read.mapping_quality == 0): readsWithMappintQualityZero+=1\n",
    "    \n",
    "averageMappingQuality = sumMappingQuality/totalNumberOfReads\n",
    "averageMappingQualityWithoutZeroMapping = sumMappingQuality/(totalNumberOfReads-readsWithMappintQualityZero-unmappedReads)\n",
    "    \n",
    "print(\"Total number of reads\")\n",
    "print(totalNumberOfReads)\n",
    "print(\"Number of unmapped reads\")\n",
    "print(unmappedReads)\n",
    "print(\"Number of reads with mapping quality of 0\")\n",
    "print(readsWithMappintQualityZero)\n",
    "print(\"Average mapping quality of reads\")\n",
    "print(averageMappingQuality)\n",
    "print(\"Average mapping quality of reads when reads with 0 mapping qualities are filtered out\")\n",
    "print(averageMappingQualityWithoutZeroMapping)"
   ]
  },
  {
   "cell_type": "code",
   "execution_count": null,
   "metadata": {},
   "outputs": [],
   "source": []
  },
  {
   "cell_type": "code",
   "execution_count": null,
   "metadata": {},
   "outputs": [],
   "source": []
  }
 ],
 "metadata": {
  "kernelspec": {
   "display_name": "Python 3",
   "language": "python",
   "name": "python3"
  },
  "language_info": {
   "codemirror_mode": {
    "name": "ipython",
    "version": 3
   },
   "file_extension": ".py",
   "mimetype": "text/x-python",
   "name": "python",
   "nbconvert_exporter": "python",
   "pygments_lexer": "ipython3",
   "version": "3.8.3"
  }
 },
 "nbformat": 4,
 "nbformat_minor": 4
}
